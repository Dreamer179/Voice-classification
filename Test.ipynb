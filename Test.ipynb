{
 "cells": [
  {
   "cell_type": "code",
   "execution_count": 83,
   "metadata": {},
   "outputs": [],
   "source": [
    "import os\n",
    "from scipy.io import wavfile\n",
    "import pandas as pd\n",
    "import matplotlib.pyplot as plt\n",
    "import numpy as np\n",
    "from keras.layers import Conv2D, MaxPool2D, Flatten, LSTM\n",
    "from keras.layers import Dropout, Dense, TimeDistributed\n",
    "from keras.models import Sequential, load_model\n",
    "from keras.utils import to_categorical\n",
    "from sklearn.utils.class_weight import compute_class_weight\n",
    "from tqdm import tqdm\n",
    "import itertools\n",
    "from python_speech_features import mfcc, logfbank\n",
    "import librosa\n",
    "from sklearn.metrics import confusion_matrix\n",
    "import librosa"
   ]
  },
  {
   "cell_type": "code",
   "execution_count": 84,
   "metadata": {},
   "outputs": [],
   "source": [
    "class Config:\n",
    "    def __init__(self, mode='conv', nfilt=26, nfeat=13, nfft=512, rate=16000):\n",
    "        self.mode = mode\n",
    "        self.nfilt = nfilt\n",
    "        self.nfeat = nfeat\n",
    "        self.nfft = nfft\n",
    "        self.rate = rate\n",
    "        self.step = int(rate/10)"
   ]
  },
  {
   "cell_type": "code",
   "execution_count": 85,
   "metadata": {},
   "outputs": [],
   "source": [
    "def plot_confusion_matrix(cm, classes,\n",
    "                          normalize=False,\n",
    "                          title='Confusion matrix',\n",
    "                          cmap=plt.cm.Blues):\n",
    "    \"\"\"\n",
    "    This function prints and plots the confusion matrix.\n",
    "    Normalization can be applied by setting `normalize=True`.\n",
    "    \"\"\"\n",
    "    if normalize:\n",
    "        cm = cm.astype('float') / cm.sum(axis=1)[:, np.newaxis]\n",
    "        print(\"Normalized confusion matrix\")\n",
    "    else:\n",
    "        print('Confusion matrix, without normalization')\n",
    "\n",
    "    print(cm)\n",
    "\n",
    "    plt.imshow(cm, interpolation='nearest', cmap=cmap)\n",
    "    plt.title(title)\n",
    "    plt.colorbar()\n",
    "    tick_marks = np.arange(len(classes))\n",
    "    plt.xticks(tick_marks, classes, rotation=45)\n",
    "    plt.yticks(tick_marks, classes)\n",
    "\n",
    "    fmt = '.2f' if normalize else 'd'\n",
    "    thresh = cm.max() / 2.\n",
    "    for i, j in itertools.product(range(cm.shape[0]), range(cm.shape[1])):\n",
    "        plt.text(j, i, format(cm[i, j], fmt),\n",
    "                 horizontalalignment=\"center\",\n",
    "                 color=\"white\" if cm[i, j] > thresh else \"black\")\n",
    "\n",
    "    plt.tight_layout()\n",
    "    plt.ylabel('True label')\n",
    "    plt.xlabel('Predicted label')\n"
   ]
  },
  {
   "cell_type": "code",
   "execution_count": 86,
   "metadata": {},
   "outputs": [],
   "source": [
    "def build_rand_feat():\n",
    "    X = []\n",
    "    y = []\n",
    "    _min, _max = float('inf'), -float('inf')\n",
    "    print('tqdm: ',n_samples)\n",
    "    for _ in tqdm(range(int(n_samples))):\n",
    "        rand_class = np.random.choice(class_dist.index, p = prob_dist)\n",
    "        file = np.random.choice(df[df.label==rand_class].index)\n",
    "        rate, wav = wavfile.read('clean_voice/'+file)\n",
    "        label = df.at[file, 'label']\n",
    "        rand_index = np.random.randint(0, wav.shape[0]-config.step)\n",
    "        sample = wav[rand_index:rand_index+config.step]\n",
    "        X_sample = mfcc(sample, rate, numcep=config.nfeat, nfilt=config.nfilt, nfft=config.nfft).T\n",
    "        _min = min(np.amin(X_sample), _min)\n",
    "        _max = max(np.amax(X_sample), _max)\n",
    "        X.append(X_sample if config.mode == 'conv' else X_sample.T)\n",
    "        y.append(classes.index(label))\n",
    "    X, y = np.array(X), np.array(y)\n",
    "    X = (X - _min) / (_max - _min)\n",
    "    if config.mode == 'conv':\n",
    "        X = X.reshape(X.shape[0], X.shape[1], X.shape[2], 1)\n",
    "    elif config.mode == 'time':\n",
    "        X = X.reshape(X.shape[0], X.shape[1], X.shape[2])\n",
    "    y = to_categorical(y, num_classes=8)\n",
    "    return X, y, _min, _max"
   ]
  },
  {
   "cell_type": "code",
   "execution_count": 87,
   "metadata": {},
   "outputs": [],
   "source": [
    "def envelope(y, rate, threshold):\n",
    "    mask = []\n",
    "    y = pd.Series(y).apply(np.abs)\n",
    "    y_mean = y.rolling(window=int(rate/10), min_periods = 1, center = True).mean()\n",
    "    for mean in y_mean:\n",
    "        if mean > threshold:\n",
    "            mask.append(True)\n",
    "        else:\n",
    "            mask.append(False)\n",
    "    return mask"
   ]
  },
  {
   "cell_type": "code",
   "execution_count": 88,
   "metadata": {},
   "outputs": [],
   "source": [
    "def calc_fft(y, rate):\n",
    "    n = len(y)\n",
    "    freq = np.fft.rfftfreq(n, d=1/rate)\n",
    "    Y = abs(np.fft.rfft(y)/n)\n",
    "    return(Y, freq)"
   ]
  },
  {
   "cell_type": "code",
   "execution_count": 89,
   "metadata": {},
   "outputs": [],
   "source": [
    "def plot_signals(signals):\n",
    "    fig, axes = plt.subplots(nrows=2, ncols=4, sharex=False,\n",
    "                             sharey=True, figsize=(20,5))\n",
    "    fig.suptitle('Time Series', size=16)\n",
    "    i = 0\n",
    "    for x in range(2):\n",
    "        for y in range(4):\n",
    "            axes[x,y].set_title(list(signals.keys())[i])\n",
    "            axes[x,y].plot(list(signals.values())[i])\n",
    "            axes[x,y].get_xaxis().set_visible(False)\n",
    "            axes[x,y].get_yaxis().set_visible(False)\n",
    "            i += 1"
   ]
  },
  {
   "cell_type": "code",
   "execution_count": 90,
   "metadata": {},
   "outputs": [
    {
     "data": {
      "image/png": "[encoded data removed]",
      "text/plain": [
       "<Figure size 432x288 with 1 Axes>"
      ]
     },
     "metadata": {},
     "output_type": "display_data"
    },
    {
     "name": "stdout",
     "output_type": "stream",
     "text": [
      "3__l106.wav\n",
      "7__l334.wav\n",
      "4__l149.wav\n",
      "l65.wav\n",
      "chunk38.wav\n",
      "5__l25.wav\n",
      "6__l162.wav\n",
      "8__1l221.wav\n"
     ]
    },
    {
     "data": {
      "image/png": "[encoded data removed]",
      "text/plain": [
       "<Figure size 1440x360 with 8 Axes>"
      ]
     },
     "metadata": {
      "needs_background": "light"
     },
     "output_type": "display_data"
    }
   ],
   "source": [
    "df = pd.read_csv('voice_label.csv')\n",
    "df.set_index('fname', inplace=True)\n",
    "\n",
    "for f in df.index:\n",
    "    rate, signal = wavfile.read('clean_voice/'+f)\n",
    "    df.at[f, 'length'] = signal.shape[0]/rate\n",
    "\n",
    "classes = list(np.unique(df.label))\n",
    "class_dist = df.groupby(['label'])['length'].mean()\n",
    "\n",
    "fig, ax = plt.subplots()\n",
    "ax.set_title('class Distribution', y=1.08)\n",
    "ax.pie(class_dist, labels = class_dist.index, autopct='%1.1f%%', shadow=False, startangle=90)\n",
    "ax.axis('equal')\n",
    "plt.show()\n",
    "df.reset_index(inplace=True)\n",
    "\n",
    "signals = {}\n",
    "fft = {}\n",
    "fbank = {}\n",
    "mfccs = {}\n",
    "\n",
    "for c in classes:\n",
    "    wav_file = df[df.label == c].iloc[0,0]\n",
    "    print(wav_file)\n",
    "    signal, rate = librosa.load('clean_voice/'+wav_file, sr=44100)\n",
    "    mask = envelope(signal, rate, 0.0005)\n",
    "    signal = signal[mask]\n",
    "    signals[c] = signal\n",
    "    fft[c] = calc_fft(signal, rate)\n",
    "\n",
    "    bank = logfbank(signal[:rate], rate, nfilt=26, nfft=1103).T\n",
    "    fbank[c] = bank\n",
    "    mel = mfcc(signal[:rate], rate, numcep = 13, nfilt=26, nfft = 1103).T\n",
    "    mfccs[c] = mel\n",
    "    \n",
    "plot_signals(signals)\n",
    "plt.show()"
   ]
  },
  {
   "cell_type": "code",
   "execution_count": 91,
   "metadata": {},
   "outputs": [
    {
     "name": "stdout",
     "output_type": "stream",
     "text": [
      "4__l149.wav\n",
      "['ba', 'bay', 'bon', 'hai', 'mot', 'nam', 'sau', 'tam']\n",
      "6760.0\n"
     ]
    },
    {
     "data": {
      "image/png": "[encoded data removed]",
      "text/plain": [
       "<Figure size 432x288 with 1 Axes>"
      ]
     },
     "metadata": {},
     "output_type": "display_data"
    }
   ],
   "source": [
    "df = pd.read_csv('voice_label.csv')\n",
    "df.set_index('fname', inplace=True) #danh so thu tu tung file\n",
    "print(df.index[0])\n",
    "for f in df.index:\n",
    "    rate, signal = wavfile.read('clean_voice/'+f)  #tan so lay mau(rate=16000) va so mau moi file\n",
    "    df.at[f, 'length'] = signal.shape[0]/rate  #tgian s\n",
    "\n",
    "classes = list(np.unique(df.label))\n",
    "print(classes)\n",
    "class_dist = df.groupby(['label'])['length'].mean()\n",
    "\n",
    "n_samples = 2*int(df['length'].sum())/0.1\n",
    "print(n_samples)\n",
    "prob_dist = class_dist/class_dist.sum()\n",
    "choices = np.random.choice(class_dist.index, p = prob_dist)\n",
    "\n",
    "fig, ax = plt.subplots()\n",
    "ax.set_title('Class Distribution', y=1.08)\n",
    "ax.pie(class_dist, labels=class_dist.index, autopct='%1.1f%%',\n",
    "       shadow=False, startangle=90)\n",
    "ax.axis('equal')\n",
    "plt.show()\n",
    "\n",
    "config = Config(mode='conv')"
   ]
  },
  {
   "cell_type": "code",
   "execution_count": 92,
   "metadata": {},
   "outputs": [
    {
     "name": "stderr",
     "output_type": "stream",
     "text": [
      "  1%|          | 69/6760 [00:00<00:09, 687.33it/s]"
     ]
    },
    {
     "name": "stdout",
     "output_type": "stream",
     "text": [
      "tqdm:  6760.0\n"
     ]
    },
    {
     "name": "stderr",
     "output_type": "stream",
     "text": [
      "100%|██████████| 6760/6760 [00:09<00:00, 728.17it/s]\n"
     ]
    }
   ],
   "source": [
    "X, y, _min, _max = build_rand_feat()"
   ]
  },
  {
   "cell_type": "code",
   "execution_count": 95,
   "metadata": {},
   "outputs": [],
   "source": [
    "y_flat = np.argmax(y, axis=1)\n",
    "input_shape = (X.shape[1], X.shape[2], 1)"
   ]
  },
  {
   "cell_type": "code",
   "execution_count": 96,
   "metadata": {},
   "outputs": [
    {
     "name": "stdout",
     "output_type": "stream",
     "text": [
      "class_weight:  [1.13 0.97 0.82 1.17 1.04 0.82 1.04 1.16]\n"
     ]
    }
   ],
   "source": [
    "class_weight = compute_class_weight('balanced',np.unique(y_flat),y_flat)\n",
    "print('class_weight: ',class_weight)"
   ]
  },
  {
   "cell_type": "code",
   "execution_count": 97,
   "metadata": {},
   "outputs": [
    {
     "name": "stdout",
     "output_type": "stream",
     "text": [
      "(6760, 13, 9, 1)\n",
      "[[[[0.53]\n",
      "   [0.53]\n",
      "   [0.53]\n",
      "   ...\n",
      "   [0.53]\n",
      "   [0.54]\n",
      "   [0.54]]\n",
      "\n",
      "  [[0.44]\n",
      "   [0.44]\n",
      "   [0.43]\n",
      "   ...\n",
      "   [0.44]\n",
      "   [0.56]\n",
      "   [0.59]]\n",
      "\n",
      "  [[0.58]\n",
      "   [0.58]\n",
      "   [0.54]\n",
      "   ...\n",
      "   [0.56]\n",
      "   [0.69]\n",
      "   [0.71]]\n",
      "\n",
      "  ...\n",
      "\n",
      "  [[0.55]\n",
      "   [0.54]\n",
      "   [0.62]\n",
      "   ...\n",
      "   [0.54]\n",
      "   [0.55]\n",
      "   [0.59]]\n",
      "\n",
      "  [[0.61]\n",
      "   [0.54]\n",
      "   [0.54]\n",
      "   ...\n",
      "   [0.58]\n",
      "   [0.49]\n",
      "   [0.47]]\n",
      "\n",
      "  [[0.57]\n",
      "   [0.54]\n",
      "   [0.61]\n",
      "   ...\n",
      "   [0.57]\n",
      "   [0.55]\n",
      "   [0.6 ]]]\n",
      "\n",
      "\n",
      " [[[0.57]\n",
      "   [0.57]\n",
      "   [0.57]\n",
      "   ...\n",
      "   [0.56]\n",
      "   [0.57]\n",
      "   [0.56]]\n",
      "\n",
      "  [[0.6 ]\n",
      "   [0.59]\n",
      "   [0.57]\n",
      "   ...\n",
      "   [0.61]\n",
      "   [0.59]\n",
      "   [0.59]]\n",
      "\n",
      "  [[0.37]\n",
      "   [0.39]\n",
      "   [0.44]\n",
      "   ...\n",
      "   [0.59]\n",
      "   [0.59]\n",
      "   [0.59]]\n",
      "\n",
      "  ...\n",
      "\n",
      "  [[0.44]\n",
      "   [0.52]\n",
      "   [0.63]\n",
      "   ...\n",
      "   [0.68]\n",
      "   [0.55]\n",
      "   [0.52]]\n",
      "\n",
      "  [[0.48]\n",
      "   [0.51]\n",
      "   [0.55]\n",
      "   ...\n",
      "   [0.61]\n",
      "   [0.6 ]\n",
      "   [0.59]]\n",
      "\n",
      "  [[0.63]\n",
      "   [0.59]\n",
      "   [0.52]\n",
      "   ...\n",
      "   [0.53]\n",
      "   [0.55]\n",
      "   [0.62]]]\n",
      "\n",
      "\n",
      " [[[0.53]\n",
      "   [0.53]\n",
      "   [0.53]\n",
      "   ...\n",
      "   [0.53]\n",
      "   [0.54]\n",
      "   [0.53]]\n",
      "\n",
      "  [[0.46]\n",
      "   [0.44]\n",
      "   [0.45]\n",
      "   ...\n",
      "   [0.47]\n",
      "   [0.45]\n",
      "   [0.43]]\n",
      "\n",
      "  [[0.56]\n",
      "   [0.54]\n",
      "   [0.56]\n",
      "   ...\n",
      "   [0.56]\n",
      "   [0.54]\n",
      "   [0.52]]\n",
      "\n",
      "  ...\n",
      "\n",
      "  [[0.62]\n",
      "   [0.56]\n",
      "   [0.56]\n",
      "   ...\n",
      "   [0.44]\n",
      "   [0.51]\n",
      "   [0.55]]\n",
      "\n",
      "  [[0.71]\n",
      "   [0.61]\n",
      "   [0.59]\n",
      "   ...\n",
      "   [0.56]\n",
      "   [0.55]\n",
      "   [0.52]]\n",
      "\n",
      "  [[0.69]\n",
      "   [0.68]\n",
      "   [0.66]\n",
      "   ...\n",
      "   [0.69]\n",
      "   [0.68]\n",
      "   [0.66]]]\n",
      "\n",
      "\n",
      " ...\n",
      "\n",
      "\n",
      " [[[0.53]\n",
      "   [0.53]\n",
      "   [0.53]\n",
      "   ...\n",
      "   [0.53]\n",
      "   [0.53]\n",
      "   [0.53]]\n",
      "\n",
      "  [[0.44]\n",
      "   [0.45]\n",
      "   [0.44]\n",
      "   ...\n",
      "   [0.44]\n",
      "   [0.44]\n",
      "   [0.42]]\n",
      "\n",
      "  [[0.53]\n",
      "   [0.54]\n",
      "   [0.55]\n",
      "   ...\n",
      "   [0.53]\n",
      "   [0.54]\n",
      "   [0.52]]\n",
      "\n",
      "  ...\n",
      "\n",
      "  [[0.56]\n",
      "   [0.56]\n",
      "   [0.62]\n",
      "   ...\n",
      "   [0.54]\n",
      "   [0.56]\n",
      "   [0.53]]\n",
      "\n",
      "  [[0.59]\n",
      "   [0.53]\n",
      "   [0.56]\n",
      "   ...\n",
      "   [0.61]\n",
      "   [0.59]\n",
      "   [0.54]]\n",
      "\n",
      "  [[0.57]\n",
      "   [0.53]\n",
      "   [0.56]\n",
      "   ...\n",
      "   [0.57]\n",
      "   [0.58]\n",
      "   [0.52]]]\n",
      "\n",
      "\n",
      " [[[0.56]\n",
      "   [0.56]\n",
      "   [0.56]\n",
      "   ...\n",
      "   [0.55]\n",
      "   [0.55]\n",
      "   [0.55]]\n",
      "\n",
      "  [[0.64]\n",
      "   [0.64]\n",
      "   [0.62]\n",
      "   ...\n",
      "   [0.66]\n",
      "   [0.66]\n",
      "   [0.66]]\n",
      "\n",
      "  [[0.68]\n",
      "   [0.7 ]\n",
      "   [0.65]\n",
      "   ...\n",
      "   [0.73]\n",
      "   [0.73]\n",
      "   [0.75]]\n",
      "\n",
      "  ...\n",
      "\n",
      "  [[0.4 ]\n",
      "   [0.41]\n",
      "   [0.3 ]\n",
      "   ...\n",
      "   [0.46]\n",
      "   [0.44]\n",
      "   [0.43]]\n",
      "\n",
      "  [[0.65]\n",
      "   [0.64]\n",
      "   [0.59]\n",
      "   ...\n",
      "   [0.62]\n",
      "   [0.54]\n",
      "   [0.46]]\n",
      "\n",
      "  [[0.55]\n",
      "   [0.53]\n",
      "   [0.48]\n",
      "   ...\n",
      "   [0.64]\n",
      "   [0.61]\n",
      "   [0.62]]]\n",
      "\n",
      "\n",
      " [[[0.59]\n",
      "   [0.59]\n",
      "   [0.59]\n",
      "   ...\n",
      "   [0.59]\n",
      "   [0.58]\n",
      "   [0.58]]\n",
      "\n",
      "  [[0.58]\n",
      "   [0.62]\n",
      "   [0.62]\n",
      "   ...\n",
      "   [0.61]\n",
      "   [0.62]\n",
      "   [0.62]]\n",
      "\n",
      "  [[0.35]\n",
      "   [0.26]\n",
      "   [0.23]\n",
      "   ...\n",
      "   [0.23]\n",
      "   [0.24]\n",
      "   [0.26]]\n",
      "\n",
      "  ...\n",
      "\n",
      "  [[0.33]\n",
      "   [0.36]\n",
      "   [0.36]\n",
      "   ...\n",
      "   [0.3 ]\n",
      "   [0.35]\n",
      "   [0.37]]\n",
      "\n",
      "  [[0.53]\n",
      "   [0.54]\n",
      "   [0.55]\n",
      "   ...\n",
      "   [0.52]\n",
      "   [0.56]\n",
      "   [0.58]]\n",
      "\n",
      "  [[0.62]\n",
      "   [0.62]\n",
      "   [0.61]\n",
      "   ...\n",
      "   [0.55]\n",
      "   [0.61]\n",
      "   [0.61]]]]\n",
      "float64\n"
     ]
    }
   ],
   "source": [
    "# print(list(X[0][0][0]))\n",
    "# print(list(X[0][0][1]))\n",
    "print(X.shape)\n",
    "print(X)\n",
    "print(X[0].dtype)\n",
    "a = list(X[0])\n",
    "# for i in X[0]:\n",
    "#     for j in X[0][X[0].index(i)]:\n",
    "#         print(j)"
   ]
  },
  {
   "cell_type": "code",
   "execution_count": 104,
   "metadata": {},
   "outputs": [],
   "source": [
    "model = load_model('voice_conv.h5')"
   ]
  },
  {
   "cell_type": "code",
   "execution_count": 105,
   "metadata": {},
   "outputs": [
    {
     "ename": "ValueError",
     "evalue": "Error when checking input: expected conv2d_17_input to have shape (9, 13, 1) but got array with shape (13, 9, 1)",
     "output_type": "error",
     "traceback": [
      "\u001b[0;31m---------------------------------------------------------------------------\u001b[0m",
      "\u001b[0;31mValueError\u001b[0m                                Traceback (most recent call last)",
      "\u001b[0;32m<ipython-input-105-0ef0a58be7e5>\u001b[0m in \u001b[0;36m<module>\u001b[0;34m\u001b[0m\n\u001b[0;32m----> 1\u001b[0;31m \u001b[0my_pred\u001b[0m \u001b[0;34m=\u001b[0m \u001b[0mmodel\u001b[0m\u001b[0;34m.\u001b[0m\u001b[0mpredict\u001b[0m\u001b[0;34m(\u001b[0m\u001b[0mX\u001b[0m\u001b[0;34m)\u001b[0m\u001b[0;34m\u001b[0m\u001b[0;34m\u001b[0m\u001b[0m\n\u001b[0m",
      "\u001b[0;32m~/anaconda3/envs/py3.6/lib/python3.6/site-packages/keras/engine/training.py\u001b[0m in \u001b[0;36mpredict\u001b[0;34m(self, x, batch_size, verbose, steps, callbacks, max_queue_size, workers, use_multiprocessing)\u001b[0m\n\u001b[1;32m   1439\u001b[0m \u001b[0;34m\u001b[0m\u001b[0m\n\u001b[1;32m   1440\u001b[0m         \u001b[0;31m# Case 2: Symbolic tensors or Numpy array-like.\u001b[0m\u001b[0;34m\u001b[0m\u001b[0;34m\u001b[0m\u001b[0;34m\u001b[0m\u001b[0m\n\u001b[0;32m-> 1441\u001b[0;31m         \u001b[0mx\u001b[0m\u001b[0;34m,\u001b[0m \u001b[0m_\u001b[0m\u001b[0;34m,\u001b[0m \u001b[0m_\u001b[0m \u001b[0;34m=\u001b[0m \u001b[0mself\u001b[0m\u001b[0;34m.\u001b[0m\u001b[0m_standardize_user_data\u001b[0m\u001b[0;34m(\u001b[0m\u001b[0mx\u001b[0m\u001b[0;34m)\u001b[0m\u001b[0;34m\u001b[0m\u001b[0;34m\u001b[0m\u001b[0m\n\u001b[0m\u001b[1;32m   1442\u001b[0m         \u001b[0;32mif\u001b[0m \u001b[0mself\u001b[0m\u001b[0;34m.\u001b[0m\u001b[0mstateful\u001b[0m\u001b[0;34m:\u001b[0m\u001b[0;34m\u001b[0m\u001b[0;34m\u001b[0m\u001b[0m\n\u001b[1;32m   1443\u001b[0m             \u001b[0;32mif\u001b[0m \u001b[0mx\u001b[0m\u001b[0;34m[\u001b[0m\u001b[0;36m0\u001b[0m\u001b[0;34m]\u001b[0m\u001b[0;34m.\u001b[0m\u001b[0mshape\u001b[0m\u001b[0;34m[\u001b[0m\u001b[0;36m0\u001b[0m\u001b[0;34m]\u001b[0m \u001b[0;34m>\u001b[0m \u001b[0mbatch_size\u001b[0m \u001b[0;32mand\u001b[0m \u001b[0mx\u001b[0m\u001b[0;34m[\u001b[0m\u001b[0;36m0\u001b[0m\u001b[0;34m]\u001b[0m\u001b[0;34m.\u001b[0m\u001b[0mshape\u001b[0m\u001b[0;34m[\u001b[0m\u001b[0;36m0\u001b[0m\u001b[0;34m]\u001b[0m \u001b[0;34m%\u001b[0m \u001b[0mbatch_size\u001b[0m \u001b[0;34m!=\u001b[0m \u001b[0;36m0\u001b[0m\u001b[0;34m:\u001b[0m\u001b[0;34m\u001b[0m\u001b[0;34m\u001b[0m\u001b[0m\n",
      "\u001b[0;32m~/anaconda3/envs/py3.6/lib/python3.6/site-packages/keras/engine/training.py\u001b[0m in \u001b[0;36m_standardize_user_data\u001b[0;34m(self, x, y, sample_weight, class_weight, check_array_lengths, batch_size)\u001b[0m\n\u001b[1;32m    577\u001b[0m             \u001b[0mfeed_input_shapes\u001b[0m\u001b[0;34m,\u001b[0m\u001b[0;34m\u001b[0m\u001b[0;34m\u001b[0m\u001b[0m\n\u001b[1;32m    578\u001b[0m             \u001b[0mcheck_batch_axis\u001b[0m\u001b[0;34m=\u001b[0m\u001b[0;32mFalse\u001b[0m\u001b[0;34m,\u001b[0m  \u001b[0;31m# Don't enforce the batch size.\u001b[0m\u001b[0;34m\u001b[0m\u001b[0;34m\u001b[0m\u001b[0m\n\u001b[0;32m--> 579\u001b[0;31m             exception_prefix='input')\n\u001b[0m\u001b[1;32m    580\u001b[0m \u001b[0;34m\u001b[0m\u001b[0m\n\u001b[1;32m    581\u001b[0m         \u001b[0;32mif\u001b[0m \u001b[0my\u001b[0m \u001b[0;32mis\u001b[0m \u001b[0;32mnot\u001b[0m \u001b[0;32mNone\u001b[0m\u001b[0;34m:\u001b[0m\u001b[0;34m\u001b[0m\u001b[0;34m\u001b[0m\u001b[0m\n",
      "\u001b[0;32m~/anaconda3/envs/py3.6/lib/python3.6/site-packages/keras/engine/training_utils.py\u001b[0m in \u001b[0;36mstandardize_input_data\u001b[0;34m(data, names, shapes, check_batch_axis, exception_prefix)\u001b[0m\n\u001b[1;32m    143\u001b[0m                             \u001b[0;34m': expected '\u001b[0m \u001b[0;34m+\u001b[0m \u001b[0mnames\u001b[0m\u001b[0;34m[\u001b[0m\u001b[0mi\u001b[0m\u001b[0;34m]\u001b[0m \u001b[0;34m+\u001b[0m \u001b[0;34m' to have shape '\u001b[0m \u001b[0;34m+\u001b[0m\u001b[0;34m\u001b[0m\u001b[0;34m\u001b[0m\u001b[0m\n\u001b[1;32m    144\u001b[0m                             \u001b[0mstr\u001b[0m\u001b[0;34m(\u001b[0m\u001b[0mshape\u001b[0m\u001b[0;34m)\u001b[0m \u001b[0;34m+\u001b[0m \u001b[0;34m' but got array with shape '\u001b[0m \u001b[0;34m+\u001b[0m\u001b[0;34m\u001b[0m\u001b[0;34m\u001b[0m\u001b[0m\n\u001b[0;32m--> 145\u001b[0;31m                             str(data_shape))\n\u001b[0m\u001b[1;32m    146\u001b[0m     \u001b[0;32mreturn\u001b[0m \u001b[0mdata\u001b[0m\u001b[0;34m\u001b[0m\u001b[0;34m\u001b[0m\u001b[0m\n\u001b[1;32m    147\u001b[0m \u001b[0;34m\u001b[0m\u001b[0m\n",
      "\u001b[0;31mValueError\u001b[0m: Error when checking input: expected conv2d_17_input to have shape (9, 13, 1) but got array with shape (13, 9, 1)"
     ]
    }
   ],
   "source": [
    " y_pred = model.predict(X)"
   ]
  },
  {
   "cell_type": "code",
   "execution_count": 99,
   "metadata": {},
   "outputs": [
    {
     "name": "stdout",
     "output_type": "stream",
     "text": [
      "(6760, 8)\n",
      "[[0.11 0.12 0.15 ... 0.15 0.12 0.11]\n",
      " [0.11 0.12 0.15 ... 0.15 0.12 0.11]\n",
      " [0.11 0.12 0.15 ... 0.15 0.12 0.11]\n",
      " ...\n",
      " [0.11 0.12 0.15 ... 0.15 0.12 0.11]\n",
      " [0.11 0.12 0.15 ... 0.15 0.12 0.11]\n",
      " [0.11 0.12 0.15 ... 0.15 0.12 0.11]]\n"
     ]
    }
   ],
   "source": [
    "print(y_pred.shape)\n",
    "print(y_pred)"
   ]
  },
  {
   "cell_type": "code",
   "execution_count": 40,
   "metadata": {},
   "outputs": [
    {
     "ename": "ValueError",
     "evalue": "Error when checking input: expected lstm_41_input to have 3 dimensions, but got array with shape (9, 13)",
     "output_type": "error",
     "traceback": [
      "\u001b[0;31m---------------------------------------------------------------------------\u001b[0m",
      "\u001b[0;31mValueError\u001b[0m                                Traceback (most recent call last)",
      "\u001b[0;32m<ipython-input-40-622e285215f3>\u001b[0m in \u001b[0;36m<module>\u001b[0;34m\u001b[0m\n\u001b[0;32m----> 1\u001b[0;31m \u001b[0my0\u001b[0m \u001b[0;34m=\u001b[0m \u001b[0mmodel\u001b[0m\u001b[0;34m.\u001b[0m\u001b[0mpredict\u001b[0m\u001b[0;34m(\u001b[0m\u001b[0mX\u001b[0m\u001b[0;34m[\u001b[0m\u001b[0;36m0\u001b[0m\u001b[0;34m]\u001b[0m\u001b[0;34m)\u001b[0m\u001b[0;34m\u001b[0m\u001b[0;34m\u001b[0m\u001b[0m\n\u001b[0m\u001b[1;32m      2\u001b[0m \u001b[0mprint\u001b[0m\u001b[0;34m(\u001b[0m\u001b[0my0\u001b[0m\u001b[0;34m)\u001b[0m\u001b[0;34m\u001b[0m\u001b[0;34m\u001b[0m\u001b[0m\n",
      "\u001b[0;32m~/anaconda3/envs/py3.6/lib/python3.6/site-packages/keras/engine/training.py\u001b[0m in \u001b[0;36mpredict\u001b[0;34m(self, x, batch_size, verbose, steps, callbacks, max_queue_size, workers, use_multiprocessing)\u001b[0m\n\u001b[1;32m   1439\u001b[0m \u001b[0;34m\u001b[0m\u001b[0m\n\u001b[1;32m   1440\u001b[0m         \u001b[0;31m# Case 2: Symbolic tensors or Numpy array-like.\u001b[0m\u001b[0;34m\u001b[0m\u001b[0;34m\u001b[0m\u001b[0;34m\u001b[0m\u001b[0m\n\u001b[0;32m-> 1441\u001b[0;31m         \u001b[0mx\u001b[0m\u001b[0;34m,\u001b[0m \u001b[0m_\u001b[0m\u001b[0;34m,\u001b[0m \u001b[0m_\u001b[0m \u001b[0;34m=\u001b[0m \u001b[0mself\u001b[0m\u001b[0;34m.\u001b[0m\u001b[0m_standardize_user_data\u001b[0m\u001b[0;34m(\u001b[0m\u001b[0mx\u001b[0m\u001b[0;34m)\u001b[0m\u001b[0;34m\u001b[0m\u001b[0;34m\u001b[0m\u001b[0m\n\u001b[0m\u001b[1;32m   1442\u001b[0m         \u001b[0;32mif\u001b[0m \u001b[0mself\u001b[0m\u001b[0;34m.\u001b[0m\u001b[0mstateful\u001b[0m\u001b[0;34m:\u001b[0m\u001b[0;34m\u001b[0m\u001b[0;34m\u001b[0m\u001b[0m\n\u001b[1;32m   1443\u001b[0m             \u001b[0;32mif\u001b[0m \u001b[0mx\u001b[0m\u001b[0;34m[\u001b[0m\u001b[0;36m0\u001b[0m\u001b[0;34m]\u001b[0m\u001b[0;34m.\u001b[0m\u001b[0mshape\u001b[0m\u001b[0;34m[\u001b[0m\u001b[0;36m0\u001b[0m\u001b[0;34m]\u001b[0m \u001b[0;34m>\u001b[0m \u001b[0mbatch_size\u001b[0m \u001b[0;32mand\u001b[0m \u001b[0mx\u001b[0m\u001b[0;34m[\u001b[0m\u001b[0;36m0\u001b[0m\u001b[0;34m]\u001b[0m\u001b[0;34m.\u001b[0m\u001b[0mshape\u001b[0m\u001b[0;34m[\u001b[0m\u001b[0;36m0\u001b[0m\u001b[0;34m]\u001b[0m \u001b[0;34m%\u001b[0m \u001b[0mbatch_size\u001b[0m \u001b[0;34m!=\u001b[0m \u001b[0;36m0\u001b[0m\u001b[0;34m:\u001b[0m\u001b[0;34m\u001b[0m\u001b[0;34m\u001b[0m\u001b[0m\n",
      "\u001b[0;32m~/anaconda3/envs/py3.6/lib/python3.6/site-packages/keras/engine/training.py\u001b[0m in \u001b[0;36m_standardize_user_data\u001b[0;34m(self, x, y, sample_weight, class_weight, check_array_lengths, batch_size)\u001b[0m\n\u001b[1;32m    577\u001b[0m             \u001b[0mfeed_input_shapes\u001b[0m\u001b[0;34m,\u001b[0m\u001b[0;34m\u001b[0m\u001b[0;34m\u001b[0m\u001b[0m\n\u001b[1;32m    578\u001b[0m             \u001b[0mcheck_batch_axis\u001b[0m\u001b[0;34m=\u001b[0m\u001b[0;32mFalse\u001b[0m\u001b[0;34m,\u001b[0m  \u001b[0;31m# Don't enforce the batch size.\u001b[0m\u001b[0;34m\u001b[0m\u001b[0;34m\u001b[0m\u001b[0m\n\u001b[0;32m--> 579\u001b[0;31m             exception_prefix='input')\n\u001b[0m\u001b[1;32m    580\u001b[0m \u001b[0;34m\u001b[0m\u001b[0m\n\u001b[1;32m    581\u001b[0m         \u001b[0;32mif\u001b[0m \u001b[0my\u001b[0m \u001b[0;32mis\u001b[0m \u001b[0;32mnot\u001b[0m \u001b[0;32mNone\u001b[0m\u001b[0;34m:\u001b[0m\u001b[0;34m\u001b[0m\u001b[0;34m\u001b[0m\u001b[0m\n",
      "\u001b[0;32m~/anaconda3/envs/py3.6/lib/python3.6/site-packages/keras/engine/training_utils.py\u001b[0m in \u001b[0;36mstandardize_input_data\u001b[0;34m(data, names, shapes, check_batch_axis, exception_prefix)\u001b[0m\n\u001b[1;32m    133\u001b[0m                         \u001b[0;34m': expected '\u001b[0m \u001b[0;34m+\u001b[0m \u001b[0mnames\u001b[0m\u001b[0;34m[\u001b[0m\u001b[0mi\u001b[0m\u001b[0;34m]\u001b[0m \u001b[0;34m+\u001b[0m \u001b[0;34m' to have '\u001b[0m \u001b[0;34m+\u001b[0m\u001b[0;34m\u001b[0m\u001b[0;34m\u001b[0m\u001b[0m\n\u001b[1;32m    134\u001b[0m                         \u001b[0mstr\u001b[0m\u001b[0;34m(\u001b[0m\u001b[0mlen\u001b[0m\u001b[0;34m(\u001b[0m\u001b[0mshape\u001b[0m\u001b[0;34m)\u001b[0m\u001b[0;34m)\u001b[0m \u001b[0;34m+\u001b[0m \u001b[0;34m' dimensions, but got array '\u001b[0m\u001b[0;34m\u001b[0m\u001b[0;34m\u001b[0m\u001b[0m\n\u001b[0;32m--> 135\u001b[0;31m                         'with shape ' + str(data_shape))\n\u001b[0m\u001b[1;32m    136\u001b[0m                 \u001b[0;32mif\u001b[0m \u001b[0;32mnot\u001b[0m \u001b[0mcheck_batch_axis\u001b[0m\u001b[0;34m:\u001b[0m\u001b[0;34m\u001b[0m\u001b[0;34m\u001b[0m\u001b[0m\n\u001b[1;32m    137\u001b[0m                     \u001b[0mdata_shape\u001b[0m \u001b[0;34m=\u001b[0m \u001b[0mdata_shape\u001b[0m\u001b[0;34m[\u001b[0m\u001b[0;36m1\u001b[0m\u001b[0;34m:\u001b[0m\u001b[0;34m]\u001b[0m\u001b[0;34m\u001b[0m\u001b[0;34m\u001b[0m\u001b[0m\n",
      "\u001b[0;31mValueError\u001b[0m: Error when checking input: expected lstm_41_input to have 3 dimensions, but got array with shape (9, 13)"
     ]
    }
   ],
   "source": [
    "y0 = model.predict(X[0])\n",
    "print(y0)"
   ]
  },
  {
   "cell_type": "code",
   "execution_count": 100,
   "metadata": {},
   "outputs": [
    {
     "name": "stdout",
     "output_type": "stream",
     "text": [
      "(6760, 8)\n"
     ]
    }
   ],
   "source": [
    "print(y_pred.shape)"
   ]
  },
  {
   "cell_type": "code",
   "execution_count": 101,
   "metadata": {},
   "outputs": [],
   "source": [
    "cfm = confusion_matrix(np.argmax(y,axis=1), np.argmax(y_pred, axis=1))"
   ]
  },
  {
   "cell_type": "code",
   "execution_count": 102,
   "metadata": {},
   "outputs": [],
   "source": [
    "np.set_printoptions(precision=2)"
   ]
  },
  {
   "cell_type": "code",
   "execution_count": 103,
   "metadata": {},
   "outputs": [
    {
     "name": "stdout",
     "output_type": "stream",
     "text": [
      "Confusion matrix, without normalization\n",
      "[[   0    0  749    0    0    0    0    0]\n",
      " [   0    0  875    0    0    0    0    0]\n",
      " [   0    0 1027    0    0    0    0    0]\n",
      " [   0    0  721    0    0    0    0    0]\n",
      " [   0    0  811    0    0    0    0    0]\n",
      " [   0    0 1035    0    0    0    0    0]\n",
      " [   0    0  813    0    0    0    0    0]\n",
      " [   0    0  729    0    0    0    0    0]]\n"
     ]
    },
    {
     "data": {
      "image/png": "[encoded data removed]",
      "text/plain": [
       "<Figure size 432x288 with 2 Axes>"
      ]
     },
     "metadata": {
      "needs_background": "light"
     },
     "output_type": "display_data"
    }
   ],
   "source": [
    "plt.figure()\n",
    "class_names = ['ba', 'bay', 'bon', 'hai', 'mot', 'nam', 'sau', 'tam']\n",
    "plot_confusion_matrix(cfm, classes=class_names, title='Confusion Matrix')\n",
    "plt.show()"
   ]
  },
  {
   "cell_type": "code",
   "execution_count": null,
   "metadata": {},
   "outputs": [],
   "source": []
  }
 ],
 "metadata": {
  "kernelspec": {
   "display_name": "Python 3",
   "language": "python",
   "name": "python3"
  },
  "language_info": {
   "codemirror_mode": {
    "name": "ipython",
    "version": 3
   },
   "file_extension": ".py",
   "mimetype": "text/x-python",
   "name": "python",
   "nbconvert_exporter": "python",
   "pygments_lexer": "ipython3",
   "version": "3.6.9"
  }
 },
 "nbformat": 4,
 "nbformat_minor": 2
}
