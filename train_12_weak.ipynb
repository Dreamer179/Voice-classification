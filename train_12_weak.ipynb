{
 "cells": [
  {
   "cell_type": "code",
   "execution_count": 1,
   "metadata": {},
   "outputs": [
    {
     "name": "stderr",
     "output_type": "stream",
     "text": [
      "Using TensorFlow backend.\n",
      "/home/thanh_dat/anaconda3/envs/py3.6/lib/python3.6/site-packages/tensorflow/python/framework/dtypes.py:516: FutureWarning: Passing (type, 1) or '1type' as a synonym of type is deprecated; in a future version of numpy, it will be understood as (type, (1,)) / '(1,)type'.\n",
      "  _np_qint8 = np.dtype([(\"qint8\", np.int8, 1)])\n",
      "/home/thanh_dat/anaconda3/envs/py3.6/lib/python3.6/site-packages/tensorflow/python/framework/dtypes.py:517: FutureWarning: Passing (type, 1) or '1type' as a synonym of type is deprecated; in a future version of numpy, it will be understood as (type, (1,)) / '(1,)type'.\n",
      "  _np_quint8 = np.dtype([(\"quint8\", np.uint8, 1)])\n",
      "/home/thanh_dat/anaconda3/envs/py3.6/lib/python3.6/site-packages/tensorflow/python/framework/dtypes.py:518: FutureWarning: Passing (type, 1) or '1type' as a synonym of type is deprecated; in a future version of numpy, it will be understood as (type, (1,)) / '(1,)type'.\n",
      "  _np_qint16 = np.dtype([(\"qint16\", np.int16, 1)])\n",
      "/home/thanh_dat/anaconda3/envs/py3.6/lib/python3.6/site-packages/tensorflow/python/framework/dtypes.py:519: FutureWarning: Passing (type, 1) or '1type' as a synonym of type is deprecated; in a future version of numpy, it will be understood as (type, (1,)) / '(1,)type'.\n",
      "  _np_quint16 = np.dtype([(\"quint16\", np.uint16, 1)])\n",
      "/home/thanh_dat/anaconda3/envs/py3.6/lib/python3.6/site-packages/tensorflow/python/framework/dtypes.py:520: FutureWarning: Passing (type, 1) or '1type' as a synonym of type is deprecated; in a future version of numpy, it will be understood as (type, (1,)) / '(1,)type'.\n",
      "  _np_qint32 = np.dtype([(\"qint32\", np.int32, 1)])\n",
      "/home/thanh_dat/anaconda3/envs/py3.6/lib/python3.6/site-packages/tensorflow/python/framework/dtypes.py:525: FutureWarning: Passing (type, 1) or '1type' as a synonym of type is deprecated; in a future version of numpy, it will be understood as (type, (1,)) / '(1,)type'.\n",
      "  np_resource = np.dtype([(\"resource\", np.ubyte, 1)])\n",
      "/home/thanh_dat/anaconda3/envs/py3.6/lib/python3.6/site-packages/tensorboard/compat/tensorflow_stub/dtypes.py:541: FutureWarning: Passing (type, 1) or '1type' as a synonym of type is deprecated; in a future version of numpy, it will be understood as (type, (1,)) / '(1,)type'.\n",
      "  _np_qint8 = np.dtype([(\"qint8\", np.int8, 1)])\n",
      "/home/thanh_dat/anaconda3/envs/py3.6/lib/python3.6/site-packages/tensorboard/compat/tensorflow_stub/dtypes.py:542: FutureWarning: Passing (type, 1) or '1type' as a synonym of type is deprecated; in a future version of numpy, it will be understood as (type, (1,)) / '(1,)type'.\n",
      "  _np_quint8 = np.dtype([(\"quint8\", np.uint8, 1)])\n",
      "/home/thanh_dat/anaconda3/envs/py3.6/lib/python3.6/site-packages/tensorboard/compat/tensorflow_stub/dtypes.py:543: FutureWarning: Passing (type, 1) or '1type' as a synonym of type is deprecated; in a future version of numpy, it will be understood as (type, (1,)) / '(1,)type'.\n",
      "  _np_qint16 = np.dtype([(\"qint16\", np.int16, 1)])\n",
      "/home/thanh_dat/anaconda3/envs/py3.6/lib/python3.6/site-packages/tensorboard/compat/tensorflow_stub/dtypes.py:544: FutureWarning: Passing (type, 1) or '1type' as a synonym of type is deprecated; in a future version of numpy, it will be understood as (type, (1,)) / '(1,)type'.\n",
      "  _np_quint16 = np.dtype([(\"quint16\", np.uint16, 1)])\n",
      "/home/thanh_dat/anaconda3/envs/py3.6/lib/python3.6/site-packages/tensorboard/compat/tensorflow_stub/dtypes.py:545: FutureWarning: Passing (type, 1) or '1type' as a synonym of type is deprecated; in a future version of numpy, it will be understood as (type, (1,)) / '(1,)type'.\n",
      "  _np_qint32 = np.dtype([(\"qint32\", np.int32, 1)])\n",
      "/home/thanh_dat/anaconda3/envs/py3.6/lib/python3.6/site-packages/tensorboard/compat/tensorflow_stub/dtypes.py:550: FutureWarning: Passing (type, 1) or '1type' as a synonym of type is deprecated; in a future version of numpy, it will be understood as (type, (1,)) / '(1,)type'.\n",
      "  np_resource = np.dtype([(\"resource\", np.ubyte, 1)])\n"
     ]
    }
   ],
   "source": [
    "import argparse\n",
    "import pandas as pd\n",
    "import numpy as np\n",
    "import mylib.data_preprocessing as dpp\n",
    "\n",
    "from sklearn.preprocessing import LabelEncoder\n",
    "from sklearn.model_selection import train_test_split\n",
    "\n",
    "from keras.utils import np_utils\n",
    "from keras.models import load_model\n",
    "\n",
    "from keras.models import Sequential, load_model\n",
    "from keras.layers import Dense, Dropout\n",
    "from keras.layers.normalization import BatchNormalization\n",
    "from keras.optimizers import Adam, SGD\n",
    "from keras.layers import LeakyReLU\n",
    "\n",
    "from enum import Enum\n",
    "import matplotlib.pyplot as plt\n",
    "from keras.callbacks import Callback\n",
    "import itertools\n",
    "from sklearn.metrics import confusion_matrix"
   ]
  },
  {
   "cell_type": "code",
   "execution_count": 2,
   "metadata": {},
   "outputs": [],
   "source": [
    "raw_data = pd.read_csv('train_12.csv', header=0) #train #skeleton_raw\n",
    "dataset = raw_data.values\n",
    "X = dataset[:, 0:20].astype(float)\n",
    "Y = dataset[:, 20]"
   ]
  },
  {
   "cell_type": "code",
   "execution_count": 3,
   "metadata": {},
   "outputs": [],
   "source": [
    "X_pp = []\n",
    "for i in range(len(X)):\n",
    "    X_pp.append(dpp.pose_normalization(X[i]))\n",
    "X_pp = np.array(X_pp)"
   ]
  },
  {
   "cell_type": "code",
   "execution_count": 4,
   "metadata": {
    "scrolled": true
   },
   "outputs": [
    {
     "name": "stdout",
     "output_type": "stream",
     "text": [
      "[0.611111111161111, 0.3333333334793651, 0.3888888888388888, 0.2857142857142857, 0.0, 0.23809523816825398, 0.27777777782777785, 0.0, 0.8888888889888891, 0.3333333334793651, 1.0, 0.6666666667396827, 0.8333333334833333, 0.9047619049079366, 0.44444444464444427, 1.0, 0.7777777779777778, 1.0]\n",
      "[[0.53703704 0.19565217 0.51851852 ... 0.65217391 0.57407407 0.65217391]\n",
      " [0.53703704 0.19565217 0.51851852 ... 0.63043478 0.57407407 0.65217391]\n",
      " [0.53703704 0.19565217 0.51851852 ... 0.65217391 0.57407407 0.65217391]\n",
      " ...\n",
      " [0.53703704 0.13043478 0.51851852 ... 0.67391304 0.57407407 0.67391304]\n",
      " [0.53703704 0.15217391 0.51851852 ... 0.67391304 0.57407407 0.65217391]\n",
      " [0.53703704 0.13043478 0.51851852 ... 0.65217391 0.57407407 0.65217391]]\n",
      "[[0.61111111 0.33333333 0.38888889 ... 1.         0.77777778 1.        ]\n",
      " [0.61111111 0.33333333 0.38888889 ... 0.95238095 0.77777778 1.        ]\n",
      " [0.61111111 0.33333333 0.33333333 ... 1.         0.77777778 1.        ]\n",
      " ...\n",
      " [0.61538462 0.05555556 0.30769231 ... 1.         0.84615385 1.        ]\n",
      " [0.61538462 0.05555556 0.30769231 ... 1.         0.84615385 0.94444444]\n",
      " [0.61538462 0.05882353 0.30769231 ... 1.         0.84615385 1.        ]]\n",
      "[ 0.  0.  0. ... 11. 11. 11.]\n"
     ]
    }
   ],
   "source": [
    "print(dpp.pose_normalization(X[0]))\n",
    "print(X)\n",
    "print(X_pp)\n",
    "print(Y)"
   ]
  },
  {
   "cell_type": "code",
   "execution_count": 5,
   "metadata": {},
   "outputs": [
    {
     "name": "stdout",
     "output_type": "stream",
     "text": [
      "[0.65217391 0.65217391 0.65217391 ... 0.67391304 0.65217391 0.65217391]\n"
     ]
    }
   ],
   "source": [
    "print(X[:,19])"
   ]
  },
  {
   "cell_type": "code",
   "execution_count": 6,
   "metadata": {},
   "outputs": [],
   "source": [
    "encoder = LabelEncoder()\n",
    "encoder_Y = encoder.fit_transform(Y)\n",
    "matrix_Y = np_utils.to_categorical(encoder_Y)"
   ]
  },
  {
   "cell_type": "code",
   "execution_count": 7,
   "metadata": {},
   "outputs": [
    {
     "name": "stdout",
     "output_type": "stream",
     "text": [
      "(9600, 18)\n",
      "(9600,)\n",
      "(9600, 12)\n",
      "[[1. 0. 0. ... 0. 0. 0.]\n",
      " [1. 0. 0. ... 0. 0. 0.]\n",
      " [1. 0. 0. ... 0. 0. 0.]\n",
      " ...\n",
      " [0. 0. 0. ... 0. 0. 1.]\n",
      " [0. 0. 0. ... 0. 0. 1.]\n",
      " [0. 0. 0. ... 0. 0. 1.]]\n"
     ]
    }
   ],
   "source": [
    "print(X_pp.shape)\n",
    "print(Y.shape)\n",
    "print(matrix_Y.shape)\n",
    "print(matrix_Y)"
   ]
  },
  {
   "cell_type": "code",
   "execution_count": 8,
   "metadata": {},
   "outputs": [
    {
     "name": "stdout",
     "output_type": "stream",
     "text": [
      "0.0 :  0\n",
      "1.0 :  1\n",
      "2.0 :  2\n",
      "3.0 :  3\n",
      "4.0 :  4\n",
      "5.0 :  5\n",
      "6.0 :  6\n",
      "7.0 :  7\n",
      "8.0 :  8\n",
      "9.0 :  9\n",
      "10.0 :  10\n",
      "11.0 :  11\n",
      "11.0 :  11\n"
     ]
    }
   ],
   "source": [
    "print(Y[0], \": \", encoder_Y[0])\n",
    "print(Y[800], \": \", encoder_Y[800])\n",
    "print(Y[1600], \": \", encoder_Y[1600])\n",
    "print(Y[2400], \": \", encoder_Y[2400])\n",
    "print(Y[3200], \": \", encoder_Y[3200])\n",
    "print(Y[4000], \": \", encoder_Y[4000])\n",
    "print(Y[4800], \": \", encoder_Y[4800])\n",
    "print(Y[5600], \": \", encoder_Y[5600])\n",
    "print(Y[6400], \": \", encoder_Y[6400])\n",
    "print(Y[7200], \": \", encoder_Y[7200])\n",
    "print(Y[8000], \": \", encoder_Y[8000])\n",
    "print(Y[8800], \": \", encoder_Y[8800])\n",
    "print(Y[9599], \": \", encoder_Y[9599])"
   ]
  },
  {
   "cell_type": "code",
   "execution_count": 9,
   "metadata": {},
   "outputs": [],
   "source": [
    "X_train, X_test, Y_train, Y_test = train_test_split(X_pp, matrix_Y, test_size=0.2, random_state=42)"
   ]
  },
  {
   "cell_type": "code",
   "execution_count": 10,
   "metadata": {},
   "outputs": [],
   "source": [
    "class LossHistory(Callback):\n",
    "    def on_train_begin(self, logs={}):\n",
    "        self.losses = {'batch':[], 'epoch':[]}\n",
    "        self.accuracy = {'batch':[], 'epoch':[]}\n",
    "        self.val_loss = {'batch':[], 'epoch':[]}\n",
    "        self.val_acc = {'batch':[], 'epoch':[]}\n",
    "\n",
    "    def on_batch_end(self, batch, logs={}):\n",
    "        self.losses['batch'].append(logs.get('loss'))\n",
    "        self.accuracy['batch'].append(logs.get('acc'))\n",
    "        self.val_loss['batch'].append(logs.get('val_loss'))\n",
    "        self.val_acc['batch'].append(logs.get('val_acc'))\n",
    "\n",
    "    def on_epoch_end(self, batch, logs={}):\n",
    "        self.losses['epoch'].append(logs.get('loss'))\n",
    "        self.accuracy['epoch'].append(logs.get('acc'))\n",
    "        self.val_loss['epoch'].append(logs.get('val_loss'))\n",
    "        self.val_acc['epoch'].append(logs.get('val_acc'))\n",
    "\n",
    "    def loss_plot(self, loss_type):\n",
    "        iters = range(len(self.losses[loss_type]))\n",
    "        plt.figure()\n",
    "        # acc\n",
    "        plt.plot(iters, self.accuracy[loss_type], 'r', label='train acc')\n",
    "        # loss\n",
    "        plt.plot(iters, self.losses[loss_type], 'g', label='train loss')\n",
    "        if loss_type == 'epoch':\n",
    "            # val_acc\n",
    "            plt.plot(iters, self.val_acc[loss_type], 'b', label='val acc')\n",
    "            # val_loss\n",
    "            plt.plot(iters, self.val_loss[loss_type], 'k', label='val loss')\n",
    "        plt.grid(True)\n",
    "        plt.xlabel(loss_type)\n",
    "        plt.ylabel('acc-loss')\n",
    "        plt.legend(loc=\"upper right\")\n",
    "        plt.show()"
   ]
  },
  {
   "cell_type": "markdown",
   "metadata": {},
   "source": [
    "---------------------------------------------------------------------------\n",
    "AttributeError                            Traceback (most recent call last)\n",
    "<ipython-input-44-d06dcff44ad8> in <module>\n",
    "----> 1 his.loss_plot('epoch')\n",
    "\n",
    "<ipython-input-35-ae441bd5a7b4> in loss_plot(self, loss_type)\n",
    "     19 \n",
    "     20     def loss_plot(self, loss_type):\n",
    "---> 21         iters = range(len(self.losses[loss_type]))\n",
    "     22         plt.figure()\n",
    "     23         # acc\n",
    "\n",
    "AttributeError: 'LossHistory' object has no attribute 'losses'"
   ]
  },
  {
   "cell_type": "code",
   "execution_count": 11,
   "metadata": {},
   "outputs": [],
   "source": [
    "def plot_confusion_matrix(cm, classes,\n",
    "                          normalize=False,\n",
    "                          title='Confusion matrix',\n",
    "                          cmap=plt.cm.Blues):\n",
    "    \"\"\"\n",
    "    This function prints and plots the confusion matrix.\n",
    "    Normalization can be applied by setting `normalize=True`.\n",
    "    \"\"\"\n",
    "    if normalize:\n",
    "        cm = cm.astype('float') / cm.sum(axis=1)[:, np.newaxis]\n",
    "        print(\"Normalized confusion matrix\")\n",
    "    else:\n",
    "        print('Confusion matrix, without normalization')\n",
    "\n",
    "    print(cm)\n",
    "\n",
    "    plt.imshow(cm, interpolation='nearest', cmap=cmap)\n",
    "    plt.title(title)\n",
    "    plt.colorbar()\n",
    "    tick_marks = np.arange(len(classes))\n",
    "    plt.xticks(tick_marks, classes, rotation=45)\n",
    "    plt.yticks(tick_marks, classes)\n",
    "\n",
    "    fmt = '.2f' if normalize else 'd'\n",
    "    thresh = cm.max() / 2.\n",
    "    for i, j in itertools.product(range(cm.shape[0]), range(cm.shape[1])):\n",
    "        plt.text(j, i, format(cm[i, j], fmt),\n",
    "                 horizontalalignment=\"center\",\n",
    "                 color=\"white\" if cm[i, j] > thresh else \"black\")\n",
    "\n",
    "    plt.tight_layout()\n",
    "    plt.ylabel('True label')\n",
    "    plt.xlabel('Predicted label')\n"
   ]
  },
  {
   "cell_type": "code",
   "execution_count": 12,
   "metadata": {},
   "outputs": [],
   "source": [
    "his = LossHistory()"
   ]
  },
  {
   "cell_type": "code",
   "execution_count": 13,
   "metadata": {},
   "outputs": [],
   "source": [
    "model = Sequential()\n",
    "model.add(Dense(units=128, activation='relu'))\n",
    "model.add(BatchNormalization())\n",
    "model.add(Dense(units=64, activation='relu'))\n",
    "model.add(BatchNormalization())\n",
    "model.add(Dense(units=16, activation='relu'))\n",
    "model.add(BatchNormalization())\n",
    "model.add(Dense(units=12, activation='softmax'))\n"
   ]
  },
  {
   "cell_type": "code",
   "execution_count": 14,
   "metadata": {},
   "outputs": [],
   "source": [
    "model.compile(optimizer=Adam(0.0001), loss='categorical_crossentropy', metrics=['accuracy'])"
   ]
  },
  {
   "cell_type": "code",
   "execution_count": 15,
   "metadata": {},
   "outputs": [
    {
     "name": "stdout",
     "output_type": "stream",
     "text": [
      "WARNING:tensorflow:From /home/thanh_dat/anaconda3/envs/py3.6/lib/python3.6/site-packages/keras/backend/tensorflow_backend.py:422: The name tf.global_variables is deprecated. Please use tf.compat.v1.global_variables instead.\n",
      "\n",
      "Train on 7680 samples, validate on 1920 samples\n",
      "Epoch 1/50\n",
      " - 1s - loss: 1.2241 - accuracy: 0.7385 - val_loss: 2.4853 - val_accuracy: 0.1594\n",
      "Epoch 2/50\n",
      " - 0s - loss: 0.6022 - accuracy: 0.9724 - val_loss: 1.1236 - val_accuracy: 0.7844\n",
      "Epoch 3/50\n",
      " - 0s - loss: 0.4413 - accuracy: 0.9883 - val_loss: 0.3501 - val_accuracy: 0.9953\n",
      "Epoch 4/50\n",
      " - 0s - loss: 0.3434 - accuracy: 0.9928 - val_loss: 0.2286 - val_accuracy: 0.9974\n",
      "Epoch 5/50\n",
      " - 0s - loss: 0.2762 - accuracy: 0.9941 - val_loss: 0.1791 - val_accuracy: 0.9979\n",
      "Epoch 6/50\n",
      " - 0s - loss: 0.2252 - accuracy: 0.9956 - val_loss: 0.1487 - val_accuracy: 0.9984\n",
      "Epoch 7/50\n",
      " - 0s - loss: 0.1857 - accuracy: 0.9966 - val_loss: 0.1261 - val_accuracy: 0.9990\n",
      "Epoch 8/50\n",
      " - 0s - loss: 0.1542 - accuracy: 0.9967 - val_loss: 0.0986 - val_accuracy: 0.9990\n",
      "Epoch 9/50\n",
      " - 0s - loss: 0.1250 - accuracy: 0.9982 - val_loss: 0.0841 - val_accuracy: 0.9990\n",
      "Epoch 10/50\n",
      " - 0s - loss: 0.1086 - accuracy: 0.9975 - val_loss: 0.0703 - val_accuracy: 0.9990\n",
      "Epoch 11/50\n",
      " - 0s - loss: 0.0936 - accuracy: 0.9983 - val_loss: 0.0585 - val_accuracy: 0.9990\n",
      "Epoch 12/50\n",
      " - 0s - loss: 0.0795 - accuracy: 0.9987 - val_loss: 0.0516 - val_accuracy: 0.9995\n",
      "Epoch 13/50\n",
      " - 0s - loss: 0.0677 - accuracy: 0.9990 - val_loss: 0.0423 - val_accuracy: 0.9995\n",
      "Epoch 14/50\n",
      " - 0s - loss: 0.0578 - accuracy: 0.9993 - val_loss: 0.0382 - val_accuracy: 1.0000\n",
      "Epoch 15/50\n",
      " - 0s - loss: 0.0524 - accuracy: 0.9986 - val_loss: 0.0337 - val_accuracy: 0.9995\n",
      "Epoch 16/50\n",
      " - 0s - loss: 0.0438 - accuracy: 0.9988 - val_loss: 0.0266 - val_accuracy: 1.0000\n",
      "Epoch 17/50\n",
      " - 0s - loss: 0.0389 - accuracy: 0.9995 - val_loss: 0.0232 - val_accuracy: 1.0000\n",
      "Epoch 18/50\n",
      " - 0s - loss: 0.0316 - accuracy: 0.9996 - val_loss: 0.0201 - val_accuracy: 1.0000\n",
      "Epoch 19/50\n",
      " - 0s - loss: 0.0306 - accuracy: 0.9993 - val_loss: 0.0165 - val_accuracy: 1.0000\n",
      "Epoch 20/50\n",
      " - 0s - loss: 0.0258 - accuracy: 0.9993 - val_loss: 0.0142 - val_accuracy: 1.0000\n",
      "Epoch 21/50\n",
      " - 0s - loss: 0.0224 - accuracy: 0.9995 - val_loss: 0.0125 - val_accuracy: 1.0000\n",
      "Epoch 22/50\n",
      " - 0s - loss: 0.0216 - accuracy: 0.9987 - val_loss: 0.0115 - val_accuracy: 1.0000\n",
      "Epoch 23/50\n",
      " - 0s - loss: 0.0181 - accuracy: 0.9993 - val_loss: 0.0109 - val_accuracy: 1.0000\n",
      "Epoch 24/50\n",
      " - 0s - loss: 0.0163 - accuracy: 0.9995 - val_loss: 0.0091 - val_accuracy: 1.0000\n",
      "Epoch 25/50\n",
      " - 0s - loss: 0.0148 - accuracy: 0.9992 - val_loss: 0.0074 - val_accuracy: 1.0000\n",
      "Epoch 26/50\n",
      " - 0s - loss: 0.0127 - accuracy: 0.9997 - val_loss: 0.0071 - val_accuracy: 1.0000\n",
      "Epoch 27/50\n",
      " - 0s - loss: 0.0115 - accuracy: 0.9996 - val_loss: 0.0056 - val_accuracy: 1.0000\n",
      "Epoch 28/50\n",
      " - 0s - loss: 0.0101 - accuracy: 0.9995 - val_loss: 0.0055 - val_accuracy: 1.0000\n",
      "Epoch 29/50\n",
      " - 0s - loss: 0.0087 - accuracy: 0.9999 - val_loss: 0.0047 - val_accuracy: 1.0000\n",
      "Epoch 30/50\n",
      " - 0s - loss: 0.0083 - accuracy: 0.9996 - val_loss: 0.0048 - val_accuracy: 1.0000\n",
      "Epoch 31/50\n",
      " - 0s - loss: 0.0069 - accuracy: 0.9999 - val_loss: 0.0038 - val_accuracy: 1.0000\n",
      "Epoch 32/50\n",
      " - 0s - loss: 0.0068 - accuracy: 0.9997 - val_loss: 0.0031 - val_accuracy: 1.0000\n",
      "Epoch 33/50\n",
      " - 0s - loss: 0.0060 - accuracy: 0.9997 - val_loss: 0.0031 - val_accuracy: 1.0000\n",
      "Epoch 34/50\n",
      " - 0s - loss: 0.0064 - accuracy: 0.9993 - val_loss: 0.0067 - val_accuracy: 0.9984\n",
      "Epoch 35/50\n",
      " - 0s - loss: 0.0051 - accuracy: 0.9999 - val_loss: 0.0028 - val_accuracy: 1.0000\n",
      "Epoch 36/50\n",
      " - 0s - loss: 0.0045 - accuracy: 0.9999 - val_loss: 0.0025 - val_accuracy: 1.0000\n",
      "Epoch 37/50\n",
      " - 0s - loss: 0.0043 - accuracy: 0.9999 - val_loss: 0.0019 - val_accuracy: 1.0000\n",
      "Epoch 38/50\n",
      " - 0s - loss: 0.0038 - accuracy: 0.9997 - val_loss: 0.0017 - val_accuracy: 1.0000\n",
      "Epoch 39/50\n",
      " - 0s - loss: 0.0040 - accuracy: 0.9999 - val_loss: 0.0018 - val_accuracy: 1.0000\n",
      "Epoch 40/50\n",
      " - 0s - loss: 0.0033 - accuracy: 0.9999 - val_loss: 0.0015 - val_accuracy: 1.0000\n",
      "Epoch 41/50\n",
      " - 0s - loss: 0.0030 - accuracy: 0.9999 - val_loss: 0.0011 - val_accuracy: 1.0000\n",
      "Epoch 42/50\n",
      " - 0s - loss: 0.0023 - accuracy: 1.0000 - val_loss: 0.0010 - val_accuracy: 1.0000\n",
      "Epoch 43/50\n",
      " - 0s - loss: 0.0022 - accuracy: 1.0000 - val_loss: 8.5064e-04 - val_accuracy: 1.0000\n",
      "Epoch 44/50\n",
      " - 0s - loss: 0.0021 - accuracy: 1.0000 - val_loss: 7.7053e-04 - val_accuracy: 1.0000\n",
      "Epoch 45/50\n",
      " - 0s - loss: 0.0021 - accuracy: 1.0000 - val_loss: 7.7930e-04 - val_accuracy: 1.0000\n",
      "Epoch 46/50\n",
      " - 0s - loss: 0.0018 - accuracy: 0.9999 - val_loss: 7.0564e-04 - val_accuracy: 1.0000\n",
      "Epoch 47/50\n",
      " - 0s - loss: 0.0015 - accuracy: 1.0000 - val_loss: 6.7443e-04 - val_accuracy: 1.0000\n",
      "Epoch 48/50\n",
      " - 0s - loss: 0.0017 - accuracy: 0.9997 - val_loss: 5.7566e-04 - val_accuracy: 1.0000\n",
      "Epoch 49/50\n",
      " - 0s - loss: 0.0018 - accuracy: 0.9999 - val_loss: 5.2907e-04 - val_accuracy: 1.0000\n",
      "Epoch 50/50\n",
      " - 0s - loss: 0.0016 - accuracy: 0.9997 - val_loss: 4.9954e-04 - val_accuracy: 1.0000\n"
     ]
    },
    {
     "data": {
      "text/plain": [
       "<keras.callbacks.callbacks.History at 0x7f8093bdcb38>"
      ]
     },
     "execution_count": 15,
     "metadata": {},
     "output_type": "execute_result"
    }
   ],
   "source": [
    "model.fit(X_train, Y_train, batch_size=32, epochs=50, verbose=2, validation_data=(X_test, Y_test))"
   ]
  },
  {
   "cell_type": "code",
   "execution_count": 16,
   "metadata": {},
   "outputs": [
    {
     "name": "stdout",
     "output_type": "stream",
     "text": [
      "Model: \"sequential_1\"\n",
      "_________________________________________________________________\n",
      "Layer (type)                 Output Shape              Param #   \n",
      "=================================================================\n",
      "dense_1 (Dense)              (None, 128)               2432      \n",
      "_________________________________________________________________\n",
      "batch_normalization_1 (Batch (None, 128)               512       \n",
      "_________________________________________________________________\n",
      "dense_2 (Dense)              (None, 64)                8256      \n",
      "_________________________________________________________________\n",
      "batch_normalization_2 (Batch (None, 64)                256       \n",
      "_________________________________________________________________\n",
      "dense_3 (Dense)              (None, 16)                1040      \n",
      "_________________________________________________________________\n",
      "batch_normalization_3 (Batch (None, 16)                64        \n",
      "_________________________________________________________________\n",
      "dense_4 (Dense)              (None, 12)                204       \n",
      "=================================================================\n",
      "Total params: 12,764\n",
      "Trainable params: 12,348\n",
      "Non-trainable params: 416\n",
      "_________________________________________________________________\n"
     ]
    }
   ],
   "source": [
    "model.summary()"
   ]
  },
  {
   "cell_type": "code",
   "execution_count": 17,
   "metadata": {},
   "outputs": [
    {
     "ename": "AttributeError",
     "evalue": "'LossHistory' object has no attribute 'losses'",
     "output_type": "error",
     "traceback": [
      "\u001b[0;31m---------------------------------------------------------------------------\u001b[0m",
      "\u001b[0;31mAttributeError\u001b[0m                            Traceback (most recent call last)",
      "\u001b[0;32m<ipython-input-17-d06dcff44ad8>\u001b[0m in \u001b[0;36m<module>\u001b[0;34m\u001b[0m\n\u001b[0;32m----> 1\u001b[0;31m \u001b[0mhis\u001b[0m\u001b[0;34m.\u001b[0m\u001b[0mloss_plot\u001b[0m\u001b[0;34m(\u001b[0m\u001b[0;34m'epoch'\u001b[0m\u001b[0;34m)\u001b[0m\u001b[0;34m\u001b[0m\u001b[0;34m\u001b[0m\u001b[0m\n\u001b[0m",
      "\u001b[0;32m<ipython-input-10-ae441bd5a7b4>\u001b[0m in \u001b[0;36mloss_plot\u001b[0;34m(self, loss_type)\u001b[0m\n\u001b[1;32m     19\u001b[0m \u001b[0;34m\u001b[0m\u001b[0m\n\u001b[1;32m     20\u001b[0m     \u001b[0;32mdef\u001b[0m \u001b[0mloss_plot\u001b[0m\u001b[0;34m(\u001b[0m\u001b[0mself\u001b[0m\u001b[0;34m,\u001b[0m \u001b[0mloss_type\u001b[0m\u001b[0;34m)\u001b[0m\u001b[0;34m:\u001b[0m\u001b[0;34m\u001b[0m\u001b[0;34m\u001b[0m\u001b[0m\n\u001b[0;32m---> 21\u001b[0;31m         \u001b[0miters\u001b[0m \u001b[0;34m=\u001b[0m \u001b[0mrange\u001b[0m\u001b[0;34m(\u001b[0m\u001b[0mlen\u001b[0m\u001b[0;34m(\u001b[0m\u001b[0mself\u001b[0m\u001b[0;34m.\u001b[0m\u001b[0mlosses\u001b[0m\u001b[0;34m[\u001b[0m\u001b[0mloss_type\u001b[0m\u001b[0;34m]\u001b[0m\u001b[0;34m)\u001b[0m\u001b[0;34m)\u001b[0m\u001b[0;34m\u001b[0m\u001b[0;34m\u001b[0m\u001b[0m\n\u001b[0m\u001b[1;32m     22\u001b[0m         \u001b[0mplt\u001b[0m\u001b[0;34m.\u001b[0m\u001b[0mfigure\u001b[0m\u001b[0;34m(\u001b[0m\u001b[0;34m)\u001b[0m\u001b[0;34m\u001b[0m\u001b[0;34m\u001b[0m\u001b[0m\n\u001b[1;32m     23\u001b[0m         \u001b[0;31m# acc\u001b[0m\u001b[0;34m\u001b[0m\u001b[0;34m\u001b[0m\u001b[0;34m\u001b[0m\u001b[0m\n",
      "\u001b[0;31mAttributeError\u001b[0m: 'LossHistory' object has no attribute 'losses'"
     ]
    }
   ],
   "source": [
    "his.loss_plot('epoch')"
   ]
  },
  {
   "cell_type": "code",
   "execution_count": 18,
   "metadata": {},
   "outputs": [],
   "source": [
    "model.save('sign_language_12_weak.h5')"
   ]
  },
  {
   "cell_type": "code",
   "execution_count": 2,
   "metadata": {},
   "outputs": [
    {
     "name": "stdout",
     "output_type": "stream",
     "text": [
      "WARNING:tensorflow:From /home/thanh_dat/anaconda3/envs/py3.6/lib/python3.6/site-packages/keras/backend/tensorflow_backend.py:422: The name tf.global_variables is deprecated. Please use tf.compat.v1.global_variables instead.\n",
      "\n"
     ]
    }
   ],
   "source": [
    "model = load_model('sign_language_12_weak.h5')"
   ]
  },
  {
   "cell_type": "code",
   "execution_count": 20,
   "metadata": {},
   "outputs": [],
   "source": [
    "Y_pred = model.predict(X_test)"
   ]
  },
  {
   "cell_type": "code",
   "execution_count": 21,
   "metadata": {},
   "outputs": [
    {
     "name": "stdout",
     "output_type": "stream",
     "text": [
      "[[0.5        0.         0.16666667 ... 1.         0.75       1.        ]\n",
      " [0.61538462 0.         0.23076923 ... 1.         0.76923077 0.94117647]\n",
      " [0.43589744 0.         0.         ... 1.         0.82051282 0.97058824]\n",
      " ...\n",
      " [0.53846154 0.05555556 0.15384615 ... 1.         0.76923077 1.        ]\n",
      " [0.50909091 0.02739726 0.18181818 ... 1.         0.8        0.97260274]\n",
      " [0.45945946 0.015625   0.         ... 0.984375   0.86486487 1.        ]]\n"
     ]
    }
   ],
   "source": [
    "print(X_test)"
   ]
  },
  {
   "cell_type": "code",
   "execution_count": 22,
   "metadata": {},
   "outputs": [
    {
     "name": "stdout",
     "output_type": "stream",
     "text": [
      "[[4.70463237e-05 9.99341786e-01 5.14161684e-06 ... 9.54813731e-06\n",
      "  4.74685658e-05 8.20935311e-05]\n",
      " [1.47685046e-06 8.04766605e-05 6.90124871e-05 ... 3.94472809e-05\n",
      "  1.35453831e-07 9.99522686e-01]\n",
      " [3.63759654e-07 2.20312850e-05 5.65739247e-05 ... 9.99545395e-01\n",
      "  3.92825059e-05 4.25067701e-05]\n",
      " ...\n",
      " [4.38980896e-06 3.75846939e-05 1.01329744e-04 ... 8.13358420e-05\n",
      "  3.84161865e-07 9.99477208e-01]\n",
      " [2.13692820e-05 1.65843539e-06 5.53603695e-06 ... 1.89648254e-05\n",
      "  4.98719673e-05 3.37338946e-07]\n",
      " [3.13677049e-07 7.14525731e-06 6.34021708e-05 ... 9.99781907e-01\n",
      "  2.41288399e-05 1.56322822e-05]]\n"
     ]
    }
   ],
   "source": [
    "print(Y_pred)"
   ]
  },
  {
   "cell_type": "code",
   "execution_count": 23,
   "metadata": {},
   "outputs": [
    {
     "name": "stdout",
     "output_type": "stream",
     "text": [
      "(1920, 12)\n"
     ]
    }
   ],
   "source": [
    "print(Y_pred.shape)"
   ]
  },
  {
   "cell_type": "code",
   "execution_count": 26,
   "metadata": {},
   "outputs": [
    {
     "name": "stdout",
     "output_type": "stream",
     "text": [
      "[[0. 1. 0. ... 0. 0. 0.]\n",
      " [0. 0. 0. ... 0. 0. 1.]\n",
      " [0. 0. 0. ... 1. 0. 0.]\n",
      " ...\n",
      " [0. 0. 0. ... 0. 0. 1.]\n",
      " [0. 0. 0. ... 0. 0. 0.]\n",
      " [0. 0. 0. ... 1. 0. 0.]]\n"
     ]
    }
   ],
   "source": [
    "print(Y_test)"
   ]
  },
  {
   "cell_type": "code",
   "execution_count": 27,
   "metadata": {},
   "outputs": [],
   "source": [
    "cfm = confusion_matrix(np.argmax(Y_test,axis=1), np.argmax(Y_pred, axis=1))"
   ]
  },
  {
   "cell_type": "code",
   "execution_count": 28,
   "metadata": {},
   "outputs": [],
   "source": [
    "np.set_printoptions(precision=2)"
   ]
  },
  {
   "cell_type": "code",
   "execution_count": 29,
   "metadata": {},
   "outputs": [
    {
     "name": "stdout",
     "output_type": "stream",
     "text": [
      "Confusion matrix, without normalization\n",
      "[[169   0   0   0   0   0   0   0   0   0   0   0]\n",
      " [  0 160   0   0   0   0   0   0   0   0   0   0]\n",
      " [  0   0 162   0   0   0   0   0   0   0   0   0]\n",
      " [  0   0   0 162   0   0   0   0   0   0   0   0]\n",
      " [  0   0   0   0 142   0   0   0   0   0   0   0]\n",
      " [  0   0   0   0   0 184   0   0   0   0   0   0]\n",
      " [  0   0   0   0   0   0 146   0   0   0   0   0]\n",
      " [  0   0   0   0   0   0   0 161   0   0   0   0]\n",
      " [  0   0   0   0   0   0   0   0 157   0   0   0]\n",
      " [  0   0   0   0   0   0   0   0   0 160   0   0]\n",
      " [  0   0   0   0   0   0   0   0   0   0 155   0]\n",
      " [  0   0   0   0   0   0   0   0   0   0   0 162]]\n"
     ]
    },
    {
     "data": {
      "image/png": "[encoded data removed]",
      "text/plain": [
       "<Figure size 432x288 with 2 Axes>"
      ]
     },
     "metadata": {
      "needs_background": "light"
     },
     "output_type": "display_data"
    }
   ],
   "source": [
    "plt.figure()\n",
    "class_names = ['chao', 'toi', 'thanh pho', 'vui ve', 'am em', 'Sai gon', 'di bo', 'mua', 'doi bung', 'yeu', 'an', 'bieu quyet']\n",
    "plot_confusion_matrix(cfm, classes=class_names, title='Confusion Matrix')\n",
    "plt.show()"
   ]
  },
  {
   "cell_type": "code",
   "execution_count": null,
   "metadata": {},
   "outputs": [],
   "source": []
  }
 ],
 "metadata": {
  "kernelspec": {
   "display_name": "Python 3",
   "language": "python",
   "name": "python3"
  },
  "language_info": {
   "codemirror_mode": {
    "name": "ipython",
    "version": 3
   },
   "file_extension": ".py",
   "mimetype": "text/x-python",
   "name": "python",
   "nbconvert_exporter": "python",
   "pygments_lexer": "ipython3",
   "version": "3.6.9"
  }
 },
 "nbformat": 4,
 "nbformat_minor": 2
}
