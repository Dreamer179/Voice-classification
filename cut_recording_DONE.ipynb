{
 "cells": [
  {
   "cell_type": "code",
   "execution_count": 7,
   "metadata": {},
   "outputs": [
    {
     "name": "stdout",
     "output_type": "stream",
     "text": [
      "exporting .//data1//chunk0.wav\n",
      "exporting .//data1//chunk1.wav\n",
      "exporting .//data1//chunk2.wav\n",
      "exporting .//data1//chunk3.wav\n",
      "exporting .//data1//chunk4.wav\n",
      "exporting .//data1//chunk5.wav\n",
      "exporting .//data1//chunk6.wav\n",
      "exporting .//data1//chunk7.wav\n",
      "exporting .//data1//chunk8.wav\n",
      "exporting .//data1//chunk9.wav\n",
      "exporting .//data1//chunk10.wav\n",
      "exporting .//data1//chunk11.wav\n",
      "exporting .//data1//chunk12.wav\n",
      "exporting .//data1//chunk13.wav\n",
      "exporting .//data1//chunk14.wav\n",
      "exporting .//data1//chunk15.wav\n",
      "exporting .//data1//chunk16.wav\n",
      "exporting .//data1//chunk17.wav\n",
      "exporting .//data1//chunk18.wav\n",
      "exporting .//data1//chunk19.wav\n",
      "exporting .//data1//chunk20.wav\n",
      "exporting .//data1//chunk21.wav\n",
      "exporting .//data1//chunk22.wav\n",
      "exporting .//data1//chunk23.wav\n",
      "exporting .//data1//chunk24.wav\n",
      "exporting .//data1//chunk25.wav\n",
      "exporting .//data1//chunk26.wav\n",
      "exporting .//data1//chunk27.wav\n",
      "exporting .//data1//chunk28.wav\n"
     ]
    }
   ],
   "source": [
    "from pydub import AudioSegment\n",
    "from pydub.silence import split_on_silence\n",
    "\n",
    "sound_file = AudioSegment.from_wav(\"1.wav\")\n",
    "audio_chunks = split_on_silence(sound_file, \n",
    "    # must be silent for at least half a second\n",
    "    min_silence_len=3,\n",
    "\n",
    "    # consider it silent if quieter than -16 dBFS\n",
    "    silence_thresh=-25\n",
    ")\n",
    "\n",
    "for i, chunk in enumerate(audio_chunks):\n",
    "\n",
    "    out_file = \".//data1//chunk{0}.wav\".format(i)\n",
    "    print( \"exporting\", out_file)\n",
    "    chunk.export(out_file, format=\"wav\")"
   ]
  },
  {
   "cell_type": "code",
   "execution_count": null,
   "metadata": {},
   "outputs": [],
   "source": []
  }
 ],
 "metadata": {
  "kernelspec": {
   "display_name": "Python 3",
   "language": "python",
   "name": "python3"
  },
  "language_info": {
   "codemirror_mode": {
    "name": "ipython",
    "version": 3
   },
   "file_extension": ".py",
   "mimetype": "text/x-python",
   "name": "python",
   "nbconvert_exporter": "python",
   "pygments_lexer": "ipython3",
   "version": "3.6.9"
  }
 },
 "nbformat": 4,
 "nbformat_minor": 2
}
